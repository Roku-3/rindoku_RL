{
  "cells": [
    {
      "cell_type": "markdown",
      "metadata": {},
      "source": [
        "# 第２章多腕バンディット問題\n",
        "\n",
        "##k本腕バンディット問題\n",
        "\n",
        "##行動価値手法\n",
        "\n",
        "##10本腕バンディットによる実験\n",
        "\n",
        "##逐次的実装\n",
        "\n",
        "##非定常問題を調べる"
      ],
      "id": "dfc5ae8b"
    }
  ],
  "metadata": {
    "kernelspec": {
      "display_name": "Python 3",
      "language": "python",
      "name": "python3"
    }
  },
  "nbformat": 4,
  "nbformat_minor": 5
}